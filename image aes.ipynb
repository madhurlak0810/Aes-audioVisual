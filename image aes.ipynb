{
 "cells": [
  {
   "cell_type": "code",
   "execution_count": 1,
   "metadata": {},
   "outputs": [
    {
     "name": "stdout",
     "output_type": "stream",
     "text": [
      "b'\\xd2YJ3Tm\\xf1\\xa5\\xc0x\\xb87\\xd0\\x0e\\xd9_,\\xfbn\\x86\\x01.\\xf1g\\xf0\\xcdjHk8\\xf6U'\n"
     ]
    }
   ],
   "source": [
    "from Cryptodome.Cipher import AES\n",
    "import os\n",
    "import struct\n",
    "from Crypto.Protocol.KDF import PBKDF2\n",
    "\n",
    "def encrypt_file(key, in_filename, out_filename=None, chunksize=64*1024):\n",
    "    \"\"\"Encrypts a file using AES (CBC mode) with the given key.\"\"\"\n",
    "    if not out_filename:\n",
    "        out_filename = in_filename + '.enc'\n",
    "\n",
    "    iv = os.urandom(16)\n",
    "    encryptor = AES.new(key, AES.MODE_CBC, iv)\n",
    "    filesize = os.path.getsize(in_filename)\n",
    "\n",
    "    with open(in_filename, 'rb') as infile:\n",
    "        with open(out_filename, 'wb') as outfile:\n",
    "            outfile.write(struct.pack('<Q', filesize))\n",
    "            outfile.write(iv)\n",
    "\n",
    "            while True:\n",
    "                chunk = infile.read(chunksize)\n",
    "                if len(chunk) == 0:\n",
    "                    break\n",
    "                elif len(chunk) % 16 != 0:\n",
    "                    chunk += b' ' * (16 - len(chunk) % 16)\n",
    "\n",
    "                outfile.write(encryptor.encrypt(chunk))\n",
    "\n",
    "\n",
    "def decrypt_file(key, in_filename, out_filename=None, chunksize=24*1024):\n",
    "    \"\"\"Decrypts a file using AES (CBC mode) with the given key.\"\"\"\n",
    "    if not out_filename:\n",
    "        out_filename = 'c:\\\\Users\\\\6114495\\\\image\\\\decrypt\\\\decrypt.jpg'\n",
    "#out_filename = os.path.splitext(in_filename)[0]\n",
    "\n",
    "    with open(in_filename, 'rb') as infile:\n",
    "        origsize = struct.unpack('<Q', infile.read(struct.calcsize('Q')))[0]\n",
    "        iv = infile.read(16)\n",
    "        decryptor = AES.new(key, AES.MODE_CBC, iv)\n",
    "\n",
    "        with open(out_filename, 'wb') as outfile:\n",
    "            while True:\n",
    "                chunk = infile.read(chunksize)\n",
    "                if len(chunk) == 0:\n",
    "                    break\n",
    "                outfile.write(decryptor.decrypt(chunk))\n",
    "\n",
    "            outfile.truncate(origsize)\n",
    "\n",
    "\n",
    "# Generate a random 256-bit AES key\n",
    "# key = os.urandom(32)\n",
    "password = 'mysecret'\n",
    "salt = os.urandom(16)  # generate a random salt to use in the key derivation function\n",
    "key = PBKDF2(password, salt, dkLen=32)  # derive a 256-bit key using PBKDF2\n",
    "print(key)\n",
    "\n",
    "# Encrypt the image file\n",
    "encrypt_file(key, 'pics/Warframe0002.jpg','encrypt.jpg.enc')\n",
    "\n",
    "# Decrypt the encrypted image file\n",
    "decrypt_file(key, 'encrypt.jpg.enc','decyptImage.jpg')\n"
   ]
  }
 ],
 "metadata": {
  "kernelspec": {
   "display_name": "Python 3",
   "language": "python",
   "name": "python3"
  },
  "language_info": {
   "codemirror_mode": {
    "name": "ipython",
    "version": 3
   },
   "file_extension": ".py",
   "mimetype": "text/x-python",
   "name": "python",
   "nbconvert_exporter": "python",
   "pygments_lexer": "ipython3",
   "version": "3.10.4"
  },
  "orig_nbformat": 4
 },
 "nbformat": 4,
 "nbformat_minor": 2
}
